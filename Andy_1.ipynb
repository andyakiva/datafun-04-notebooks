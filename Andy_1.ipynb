{
 "cells": [
  {
   "cell_type": "markdown",
   "id": "8b91d162-95ac-443d-a84c-28d27c4fdc4a",
   "metadata": {},
   "source": [
    "# Andy Asher's Project 4 - Part 1"
   ]
  },
  {
   "cell_type": "markdown",
   "id": "06864daa-a662-490a-86cb-bdd1cd992f8e",
   "metadata": {},
   "source": [
    "## Task 1.1 - Series"
   ]
  },
  {
   "cell_type": "code",
   "execution_count": 1,
   "id": "379ba2dc-626a-45d4-87a4-d891d2ce0c3d",
   "metadata": {},
   "outputs": [
    {
     "data": {
      "text/plain": [
       "87"
      ]
     },
     "execution_count": 1,
     "metadata": {},
     "output_type": "execute_result"
    }
   ],
   "source": [
    "import pandas as pd\n",
    "grades = pd.Series([87, 100, 94, 32, 85, 71, 68])\n",
    "grades[0]"
   ]
  },
  {
   "cell_type": "code",
   "execution_count": 2,
   "id": "f61c8a46-7bef-4dab-ba1b-7f293042643e",
   "metadata": {},
   "outputs": [
    {
     "data": {
      "text/plain": [
       "7"
      ]
     },
     "execution_count": 2,
     "metadata": {},
     "output_type": "execute_result"
    }
   ],
   "source": [
    "grades.count()"
   ]
  },
  {
   "cell_type": "code",
   "execution_count": 3,
   "id": "75d0e323-d3b7-4e73-8568-89aed25f9d4e",
   "metadata": {},
   "outputs": [
    {
     "data": {
      "text/plain": [
       "76.71428571428571"
      ]
     },
     "execution_count": 3,
     "metadata": {},
     "output_type": "execute_result"
    }
   ],
   "source": [
    "grades.mean()"
   ]
  },
  {
   "cell_type": "code",
   "execution_count": 4,
   "id": "672a4a9b-285b-4dfe-83e0-f272294ffd6a",
   "metadata": {},
   "outputs": [
    {
     "data": {
      "text/plain": [
       "32"
      ]
     },
     "execution_count": 4,
     "metadata": {},
     "output_type": "execute_result"
    }
   ],
   "source": [
    "grades.min()"
   ]
  },
  {
   "cell_type": "code",
   "execution_count": 5,
   "id": "cd7af166-d8a8-4011-9a13-37070600fda7",
   "metadata": {},
   "outputs": [
    {
     "data": {
      "text/plain": [
       "100"
      ]
     },
     "execution_count": 5,
     "metadata": {},
     "output_type": "execute_result"
    }
   ],
   "source": [
    "grades.max()"
   ]
  },
  {
   "cell_type": "code",
   "execution_count": 6,
   "id": "65660c03-f13a-4c71-be98-6b8617281f6b",
   "metadata": {},
   "outputs": [
    {
     "data": {
      "text/plain": [
       "22.816034462005632"
      ]
     },
     "execution_count": 6,
     "metadata": {},
     "output_type": "execute_result"
    }
   ],
   "source": [
    " grades.std()"
   ]
  },
  {
   "cell_type": "code",
   "execution_count": 7,
   "id": "f88063a6-671a-49be-9363-18bd91469591",
   "metadata": {},
   "outputs": [
    {
     "data": {
      "text/plain": [
       "count      7.000000\n",
       "mean      76.714286\n",
       "std       22.816034\n",
       "min       32.000000\n",
       "25%       69.500000\n",
       "50%       85.000000\n",
       "75%       90.500000\n",
       "max      100.000000\n",
       "dtype: float64"
      ]
     },
     "execution_count": 7,
     "metadata": {},
     "output_type": "execute_result"
    }
   ],
   "source": [
    "grades.describe()"
   ]
  },
  {
   "cell_type": "markdown",
   "id": "9df9b40e-d789-4a0c-a655-3f82fab4a142",
   "metadata": {},
   "source": [
    "## Task 2 - Series from Dictionary"
   ]
  },
  {
   "cell_type": "code",
   "execution_count": 8,
   "id": "75f881d9-f87c-4061-a69b-683a029217e2",
   "metadata": {},
   "outputs": [
    {
     "data": {
      "text/plain": [
       "100"
      ]
     },
     "execution_count": 8,
     "metadata": {},
     "output_type": "execute_result"
    }
   ],
   "source": [
    "grades = pd.Series({'Wally': 87, 'Eva': 100, 'Sam': 94})\n",
    "grades['Eva']"
   ]
  },
  {
   "cell_type": "code",
   "execution_count": 9,
   "id": "3a9033ec-06ea-4aeb-bc0d-a995a3de757e",
   "metadata": {},
   "outputs": [
    {
     "data": {
      "text/plain": [
       "87"
      ]
     },
     "execution_count": 9,
     "metadata": {},
     "output_type": "execute_result"
    }
   ],
   "source": [
    " grades.Wally"
   ]
  },
  {
   "cell_type": "code",
   "execution_count": 10,
   "id": "6629183c-dff6-4c84-85f1-e29fe6676aa2",
   "metadata": {},
   "outputs": [
    {
     "data": {
      "text/plain": [
       "array([ 87, 100,  94])"
      ]
     },
     "execution_count": 10,
     "metadata": {},
     "output_type": "execute_result"
    }
   ],
   "source": [
    "grades.values"
   ]
  },
  {
   "cell_type": "code",
   "execution_count": 11,
   "id": "3ca5abad-ecaf-4cab-9398-286b3a274fc3",
   "metadata": {},
   "outputs": [],
   "source": [
    "import numpy as np"
   ]
  },
  {
   "cell_type": "code",
   "execution_count": 12,
   "id": "fcd61d8c-aeb6-47eb-91c8-4e00ce96bcc6",
   "metadata": {},
   "outputs": [
    {
     "data": {
      "text/plain": [
       "0    94\n",
       "1    67\n",
       "2    78\n",
       "3    72\n",
       "4    93\n",
       "5    78\n",
       "dtype: int64"
      ]
     },
     "execution_count": 12,
     "metadata": {},
     "output_type": "execute_result"
    }
   ],
   "source": [
    "temperatures = np.random.randint(60,101,6)\n",
    "temps = pd.Series(temperatures)\n",
    "temps\n"
   ]
  },
  {
   "cell_type": "code",
   "execution_count": 13,
   "id": "a2d07c20-5a92-40b8-bbae-8c2a8c13e8c7",
   "metadata": {},
   "outputs": [
    {
     "data": {
      "text/plain": [
       "6"
      ]
     },
     "execution_count": 13,
     "metadata": {},
     "output_type": "execute_result"
    }
   ],
   "source": [
    "temps.count()"
   ]
  },
  {
   "cell_type": "code",
   "execution_count": 14,
   "id": "af359ce4-1949-4846-a756-6567027303cc",
   "metadata": {},
   "outputs": [
    {
     "data": {
      "text/plain": [
       "67"
      ]
     },
     "execution_count": 14,
     "metadata": {},
     "output_type": "execute_result"
    }
   ],
   "source": [
    "temps.min()"
   ]
  },
  {
   "cell_type": "code",
   "execution_count": 15,
   "id": "8fdd42ba-721c-4302-80d1-ebd7791d87d9",
   "metadata": {},
   "outputs": [
    {
     "data": {
      "text/plain": [
       "94"
      ]
     },
     "execution_count": 15,
     "metadata": {},
     "output_type": "execute_result"
    }
   ],
   "source": [
    "temps.max()"
   ]
  },
  {
   "cell_type": "code",
   "execution_count": 16,
   "id": "dba23dfc-723c-4708-aac5-f6473582271d",
   "metadata": {},
   "outputs": [
    {
     "data": {
      "text/plain": [
       "80.33333333333333"
      ]
     },
     "execution_count": 16,
     "metadata": {},
     "output_type": "execute_result"
    }
   ],
   "source": [
    "temps.mean()"
   ]
  },
  {
   "cell_type": "code",
   "execution_count": 17,
   "id": "31c68afe-a33b-4c21-97bc-bde98a08022a",
   "metadata": {},
   "outputs": [
    {
     "data": {
      "text/plain": [
       "count     6.000000\n",
       "mean     80.333333\n",
       "std      11.003030\n",
       "min      67.000000\n",
       "25%      73.500000\n",
       "50%      78.000000\n",
       "75%      89.250000\n",
       "max      94.000000\n",
       "dtype: float64"
      ]
     },
     "execution_count": 17,
     "metadata": {},
     "output_type": "execute_result"
    }
   ],
   "source": [
    "temps.describe()"
   ]
  }
 ],
 "metadata": {
  "kernelspec": {
   "display_name": "Python [conda env:root] *",
   "language": "python",
   "name": "conda-root-py"
  },
  "language_info": {
   "codemirror_mode": {
    "name": "ipython",
    "version": 3
   },
   "file_extension": ".py",
   "mimetype": "text/x-python",
   "name": "python",
   "nbconvert_exporter": "python",
   "pygments_lexer": "ipython3",
   "version": "3.10.8"
  }
 },
 "nbformat": 4,
 "nbformat_minor": 5
}
