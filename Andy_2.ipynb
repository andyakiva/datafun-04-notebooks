{
 "cells": [
  {
   "cell_type": "markdown",
   "id": "e6ff296c-3d37-40c5-9291-ce9b0eec661f",
   "metadata": {},
   "source": [
    "# Andy Asher's Project 4 - Part 2"
   ]
  },
  {
   "cell_type": "markdown",
   "id": "f678536d-38a4-4ced-98f8-257843282991",
   "metadata": {},
   "source": [
    "## Task 1. Create DataFrame"
   ]
  },
  {
   "cell_type": "code",
   "execution_count": 1,
   "id": "2b157ce6-39a0-43f6-83c0-1d097df7feeb",
   "metadata": {},
   "outputs": [],
   "source": [
    "import pandas as pd\n",
    "grades_dict = {'Wally': [85, 98, 70], 'Eva': [100, 77, 80], 'Sam': [84, 87, 90], 'Katie': [100, 71, 92], 'Bob': [73, 55, 95]}"
   ]
  },
  {
   "cell_type": "code",
   "execution_count": 2,
   "id": "1bceb9d3-b36b-4b59-a6fe-2c8d43e04a93",
   "metadata": {},
   "outputs": [],
   "source": [
    "grades = pd.DataFrame(grades_dict)"
   ]
  },
  {
   "cell_type": "markdown",
   "id": "eacda57d-969f-457f-a1bc-3172019aa6c9",
   "metadata": {},
   "source": [
    "## Task 2. Custom Index"
   ]
  },
  {
   "cell_type": "code",
   "execution_count": 3,
   "id": "1edb8630-25eb-45a0-8af7-517801a06ab9",
   "metadata": {},
   "outputs": [],
   "source": [
    "grades.index = ['Test1', 'Test2', 'Test3']"
   ]
  },
  {
   "cell_type": "code",
   "execution_count": 4,
   "id": "dd602ea5-8eef-4efc-af3d-e421b7e6dbb5",
   "metadata": {},
   "outputs": [
    {
     "data": {
      "text/html": [
       "<div>\n",
       "<style scoped>\n",
       "    .dataframe tbody tr th:only-of-type {\n",
       "        vertical-align: middle;\n",
       "    }\n",
       "\n",
       "    .dataframe tbody tr th {\n",
       "        vertical-align: top;\n",
       "    }\n",
       "\n",
       "    .dataframe thead th {\n",
       "        text-align: right;\n",
       "    }\n",
       "</style>\n",
       "<table border=\"1\" class=\"dataframe\">\n",
       "  <thead>\n",
       "    <tr style=\"text-align: right;\">\n",
       "      <th></th>\n",
       "      <th>Wally</th>\n",
       "      <th>Eva</th>\n",
       "      <th>Sam</th>\n",
       "      <th>Katie</th>\n",
       "      <th>Bob</th>\n",
       "    </tr>\n",
       "  </thead>\n",
       "  <tbody>\n",
       "    <tr>\n",
       "      <th>Test1</th>\n",
       "      <td>85</td>\n",
       "      <td>100</td>\n",
       "      <td>84</td>\n",
       "      <td>100</td>\n",
       "      <td>73</td>\n",
       "    </tr>\n",
       "    <tr>\n",
       "      <th>Test2</th>\n",
       "      <td>98</td>\n",
       "      <td>77</td>\n",
       "      <td>87</td>\n",
       "      <td>71</td>\n",
       "      <td>55</td>\n",
       "    </tr>\n",
       "    <tr>\n",
       "      <th>Test3</th>\n",
       "      <td>70</td>\n",
       "      <td>80</td>\n",
       "      <td>90</td>\n",
       "      <td>92</td>\n",
       "      <td>95</td>\n",
       "    </tr>\n",
       "  </tbody>\n",
       "</table>\n",
       "</div>"
      ],
      "text/plain": [
       "       Wally  Eva  Sam  Katie  Bob\n",
       "Test1     85  100   84    100   73\n",
       "Test2     98   77   87     71   55\n",
       "Test3     70   80   90     92   95"
      ]
     },
     "execution_count": 4,
     "metadata": {},
     "output_type": "execute_result"
    }
   ],
   "source": [
    "grades"
   ]
  },
  {
   "cell_type": "code",
   "execution_count": 5,
   "id": "dc328e0c-890d-4492-8fc3-855d5171c09d",
   "metadata": {},
   "outputs": [
    {
     "data": {
      "text/plain": [
       "Test1    100\n",
       "Test2     77\n",
       "Test3     80\n",
       "Name: Eva, dtype: int64"
      ]
     },
     "execution_count": 5,
     "metadata": {},
     "output_type": "execute_result"
    }
   ],
   "source": [
    "grades['Eva']"
   ]
  },
  {
   "cell_type": "code",
   "execution_count": 6,
   "id": "70add34c-1e49-4239-8c0a-c5559300964e",
   "metadata": {},
   "outputs": [
    {
     "data": {
      "text/plain": [
       "Test1    84\n",
       "Test2    87\n",
       "Test3    90\n",
       "Name: Sam, dtype: int64"
      ]
     },
     "execution_count": 6,
     "metadata": {},
     "output_type": "execute_result"
    }
   ],
   "source": [
    "grades.Sam"
   ]
  },
  {
   "cell_type": "markdown",
   "id": "53a38031-87ce-495e-bbf8-5d63a4eaa1ff",
   "metadata": {},
   "source": [
    "## Task 3. Accessing Rows (loc, iloc)"
   ]
  },
  {
   "cell_type": "code",
   "execution_count": 7,
   "id": "f1089f90-1246-452c-aa4d-8d8b87d1ab2e",
   "metadata": {},
   "outputs": [
    {
     "data": {
      "text/plain": [
       "Wally     85\n",
       "Eva      100\n",
       "Sam       84\n",
       "Katie    100\n",
       "Bob       73\n",
       "Name: Test1, dtype: int64"
      ]
     },
     "execution_count": 7,
     "metadata": {},
     "output_type": "execute_result"
    }
   ],
   "source": [
    "grades.loc['Test1'] #I prefer this method because it seems easier to avoid forgetting to account for starting at 0"
   ]
  },
  {
   "cell_type": "code",
   "execution_count": 8,
   "id": "3a67ae45-0a2a-4b34-bc5e-8dff4ffe7c45",
   "metadata": {},
   "outputs": [
    {
     "data": {
      "text/plain": [
       "Wally    98\n",
       "Eva      77\n",
       "Sam      87\n",
       "Katie    71\n",
       "Bob      55\n",
       "Name: Test2, dtype: int64"
      ]
     },
     "execution_count": 8,
     "metadata": {},
     "output_type": "execute_result"
    }
   ],
   "source": [
    "grades.iloc[1]"
   ]
  },
  {
   "cell_type": "code",
   "execution_count": 9,
   "id": "9d9ec6c7-0eed-443f-ad36-5bca6db94251",
   "metadata": {},
   "outputs": [
    {
     "data": {
      "text/html": [
       "<div>\n",
       "<style scoped>\n",
       "    .dataframe tbody tr th:only-of-type {\n",
       "        vertical-align: middle;\n",
       "    }\n",
       "\n",
       "    .dataframe tbody tr th {\n",
       "        vertical-align: top;\n",
       "    }\n",
       "\n",
       "    .dataframe thead th {\n",
       "        text-align: right;\n",
       "    }\n",
       "</style>\n",
       "<table border=\"1\" class=\"dataframe\">\n",
       "  <thead>\n",
       "    <tr style=\"text-align: right;\">\n",
       "      <th></th>\n",
       "      <th>Wally</th>\n",
       "      <th>Eva</th>\n",
       "      <th>Sam</th>\n",
       "      <th>Katie</th>\n",
       "      <th>Bob</th>\n",
       "    </tr>\n",
       "  </thead>\n",
       "  <tbody>\n",
       "    <tr>\n",
       "      <th>Test1</th>\n",
       "      <td>85</td>\n",
       "      <td>100</td>\n",
       "      <td>84</td>\n",
       "      <td>100</td>\n",
       "      <td>73</td>\n",
       "    </tr>\n",
       "    <tr>\n",
       "      <th>Test2</th>\n",
       "      <td>98</td>\n",
       "      <td>77</td>\n",
       "      <td>87</td>\n",
       "      <td>71</td>\n",
       "      <td>55</td>\n",
       "    </tr>\n",
       "    <tr>\n",
       "      <th>Test3</th>\n",
       "      <td>70</td>\n",
       "      <td>80</td>\n",
       "      <td>90</td>\n",
       "      <td>92</td>\n",
       "      <td>95</td>\n",
       "    </tr>\n",
       "  </tbody>\n",
       "</table>\n",
       "</div>"
      ],
      "text/plain": [
       "       Wally  Eva  Sam  Katie  Bob\n",
       "Test1     85  100   84    100   73\n",
       "Test2     98   77   87     71   55\n",
       "Test3     70   80   90     92   95"
      ]
     },
     "execution_count": 9,
     "metadata": {},
     "output_type": "execute_result"
    }
   ],
   "source": [
    "grades.loc['Test1':'Test3']"
   ]
  },
  {
   "cell_type": "code",
   "execution_count": 10,
   "id": "6407b170-019e-4587-958b-6849c22076bb",
   "metadata": {},
   "outputs": [
    {
     "data": {
      "text/html": [
       "<div>\n",
       "<style scoped>\n",
       "    .dataframe tbody tr th:only-of-type {\n",
       "        vertical-align: middle;\n",
       "    }\n",
       "\n",
       "    .dataframe tbody tr th {\n",
       "        vertical-align: top;\n",
       "    }\n",
       "\n",
       "    .dataframe thead th {\n",
       "        text-align: right;\n",
       "    }\n",
       "</style>\n",
       "<table border=\"1\" class=\"dataframe\">\n",
       "  <thead>\n",
       "    <tr style=\"text-align: right;\">\n",
       "      <th></th>\n",
       "      <th>Wally</th>\n",
       "      <th>Eva</th>\n",
       "      <th>Sam</th>\n",
       "      <th>Katie</th>\n",
       "      <th>Bob</th>\n",
       "    </tr>\n",
       "  </thead>\n",
       "  <tbody>\n",
       "    <tr>\n",
       "      <th>Test1</th>\n",
       "      <td>85</td>\n",
       "      <td>100</td>\n",
       "      <td>84</td>\n",
       "      <td>100</td>\n",
       "      <td>73</td>\n",
       "    </tr>\n",
       "    <tr>\n",
       "      <th>Test2</th>\n",
       "      <td>98</td>\n",
       "      <td>77</td>\n",
       "      <td>87</td>\n",
       "      <td>71</td>\n",
       "      <td>55</td>\n",
       "    </tr>\n",
       "  </tbody>\n",
       "</table>\n",
       "</div>"
      ],
      "text/plain": [
       "       Wally  Eva  Sam  Katie  Bob\n",
       "Test1     85  100   84    100   73\n",
       "Test2     98   77   87     71   55"
      ]
     },
     "execution_count": 10,
     "metadata": {},
     "output_type": "execute_result"
    }
   ],
   "source": [
    "grades.iloc[0:2]"
   ]
  },
  {
   "cell_type": "markdown",
   "id": "4c3c399d-8f52-4ee6-ac37-95029e3407e0",
   "metadata": {},
   "source": [
    "## Task 3. Accessing Subsets (at, iat)"
   ]
  },
  {
   "cell_type": "code",
   "execution_count": 11,
   "id": "d21a97de-a7d9-491d-9bb9-d8dce9192729",
   "metadata": {},
   "outputs": [
    {
     "data": {
      "text/plain": [
       "77"
      ]
     },
     "execution_count": 11,
     "metadata": {},
     "output_type": "execute_result"
    }
   ],
   "source": [
    "grades.at['Test2', 'Eva']"
   ]
  },
  {
   "cell_type": "code",
   "execution_count": 12,
   "id": "75026131-e8b9-4f4a-8c3a-11f5549d7a02",
   "metadata": {},
   "outputs": [
    {
     "data": {
      "text/plain": [
       "70"
      ]
     },
     "execution_count": 12,
     "metadata": {},
     "output_type": "execute_result"
    }
   ],
   "source": [
    "grades.iat[2,0]"
   ]
  },
  {
   "cell_type": "markdown",
   "id": "fbada46f-a7d2-44c8-93b0-4642628b33db",
   "metadata": {},
   "source": [
    "## Task 4. Describe (By Column)"
   ]
  },
  {
   "cell_type": "code",
   "execution_count": 13,
   "id": "bca2a627-d4f6-45d6-be23-0c5611306f69",
   "metadata": {},
   "outputs": [
    {
     "data": {
      "text/html": [
       "<div>\n",
       "<style scoped>\n",
       "    .dataframe tbody tr th:only-of-type {\n",
       "        vertical-align: middle;\n",
       "    }\n",
       "\n",
       "    .dataframe tbody tr th {\n",
       "        vertical-align: top;\n",
       "    }\n",
       "\n",
       "    .dataframe thead th {\n",
       "        text-align: right;\n",
       "    }\n",
       "</style>\n",
       "<table border=\"1\" class=\"dataframe\">\n",
       "  <thead>\n",
       "    <tr style=\"text-align: right;\">\n",
       "      <th></th>\n",
       "      <th>Wally</th>\n",
       "      <th>Eva</th>\n",
       "      <th>Sam</th>\n",
       "      <th>Katie</th>\n",
       "      <th>Bob</th>\n",
       "    </tr>\n",
       "  </thead>\n",
       "  <tbody>\n",
       "    <tr>\n",
       "      <th>count</th>\n",
       "      <td>3.000000</td>\n",
       "      <td>3.000000</td>\n",
       "      <td>3.0</td>\n",
       "      <td>3.000000</td>\n",
       "      <td>3.000000</td>\n",
       "    </tr>\n",
       "    <tr>\n",
       "      <th>mean</th>\n",
       "      <td>84.333333</td>\n",
       "      <td>85.666667</td>\n",
       "      <td>87.0</td>\n",
       "      <td>87.666667</td>\n",
       "      <td>74.333333</td>\n",
       "    </tr>\n",
       "    <tr>\n",
       "      <th>std</th>\n",
       "      <td>14.011900</td>\n",
       "      <td>12.503333</td>\n",
       "      <td>3.0</td>\n",
       "      <td>14.977761</td>\n",
       "      <td>20.033306</td>\n",
       "    </tr>\n",
       "    <tr>\n",
       "      <th>min</th>\n",
       "      <td>70.000000</td>\n",
       "      <td>77.000000</td>\n",
       "      <td>84.0</td>\n",
       "      <td>71.000000</td>\n",
       "      <td>55.000000</td>\n",
       "    </tr>\n",
       "    <tr>\n",
       "      <th>25%</th>\n",
       "      <td>77.500000</td>\n",
       "      <td>78.500000</td>\n",
       "      <td>85.5</td>\n",
       "      <td>81.500000</td>\n",
       "      <td>64.000000</td>\n",
       "    </tr>\n",
       "    <tr>\n",
       "      <th>50%</th>\n",
       "      <td>85.000000</td>\n",
       "      <td>80.000000</td>\n",
       "      <td>87.0</td>\n",
       "      <td>92.000000</td>\n",
       "      <td>73.000000</td>\n",
       "    </tr>\n",
       "    <tr>\n",
       "      <th>75%</th>\n",
       "      <td>91.500000</td>\n",
       "      <td>90.000000</td>\n",
       "      <td>88.5</td>\n",
       "      <td>96.000000</td>\n",
       "      <td>84.000000</td>\n",
       "    </tr>\n",
       "    <tr>\n",
       "      <th>max</th>\n",
       "      <td>98.000000</td>\n",
       "      <td>100.000000</td>\n",
       "      <td>90.0</td>\n",
       "      <td>100.000000</td>\n",
       "      <td>95.000000</td>\n",
       "    </tr>\n",
       "  </tbody>\n",
       "</table>\n",
       "</div>"
      ],
      "text/plain": [
       "           Wally         Eva   Sam       Katie        Bob\n",
       "count   3.000000    3.000000   3.0    3.000000   3.000000\n",
       "mean   84.333333   85.666667  87.0   87.666667  74.333333\n",
       "std    14.011900   12.503333   3.0   14.977761  20.033306\n",
       "min    70.000000   77.000000  84.0   71.000000  55.000000\n",
       "25%    77.500000   78.500000  85.5   81.500000  64.000000\n",
       "50%    85.000000   80.000000  87.0   92.000000  73.000000\n",
       "75%    91.500000   90.000000  88.5   96.000000  84.000000\n",
       "max    98.000000  100.000000  90.0  100.000000  95.000000"
      ]
     },
     "execution_count": 13,
     "metadata": {},
     "output_type": "execute_result"
    }
   ],
   "source": [
    "grades.describe()"
   ]
  },
  {
   "cell_type": "code",
   "execution_count": 15,
   "id": "a9bfd467-a45c-49af-87c6-6f2b6c379ab3",
   "metadata": {},
   "outputs": [],
   "source": [
    "pd.set_option('display.precision',2) #adding display. before precision is the new way to use this with pandas"
   ]
  },
  {
   "cell_type": "code",
   "execution_count": null,
   "id": "df80f9e6-9f76-4e8d-8226-93c4cbed1556",
   "metadata": {},
   "outputs": [],
   "source": [
    "#I found all the possible arguments in the pandas documentation"
   ]
  },
  {
   "cell_type": "markdown",
   "id": "956edd5a-56c5-4aa6-81d2-a70f4daa69de",
   "metadata": {},
   "source": [
    "## Task 5. Transpose (rows <--> columns)"
   ]
  },
  {
   "cell_type": "code",
   "execution_count": null,
   "id": "ad567980-9dcf-4129-88d1-d9371f5c5366",
   "metadata": {},
   "outputs": [],
   "source": [
    "grades.mean()"
   ]
  },
  {
   "cell_type": "code",
   "execution_count": 16,
   "id": "4e1f702d-b54c-4259-83de-f8e9f53a0b4c",
   "metadata": {},
   "outputs": [
    {
     "data": {
      "text/html": [
       "<div>\n",
       "<style scoped>\n",
       "    .dataframe tbody tr th:only-of-type {\n",
       "        vertical-align: middle;\n",
       "    }\n",
       "\n",
       "    .dataframe tbody tr th {\n",
       "        vertical-align: top;\n",
       "    }\n",
       "\n",
       "    .dataframe thead th {\n",
       "        text-align: right;\n",
       "    }\n",
       "</style>\n",
       "<table border=\"1\" class=\"dataframe\">\n",
       "  <thead>\n",
       "    <tr style=\"text-align: right;\">\n",
       "      <th></th>\n",
       "      <th>Test1</th>\n",
       "      <th>Test2</th>\n",
       "      <th>Test3</th>\n",
       "    </tr>\n",
       "  </thead>\n",
       "  <tbody>\n",
       "    <tr>\n",
       "      <th>Wally</th>\n",
       "      <td>85</td>\n",
       "      <td>98</td>\n",
       "      <td>70</td>\n",
       "    </tr>\n",
       "    <tr>\n",
       "      <th>Eva</th>\n",
       "      <td>100</td>\n",
       "      <td>77</td>\n",
       "      <td>80</td>\n",
       "    </tr>\n",
       "    <tr>\n",
       "      <th>Sam</th>\n",
       "      <td>84</td>\n",
       "      <td>87</td>\n",
       "      <td>90</td>\n",
       "    </tr>\n",
       "    <tr>\n",
       "      <th>Katie</th>\n",
       "      <td>100</td>\n",
       "      <td>71</td>\n",
       "      <td>92</td>\n",
       "    </tr>\n",
       "    <tr>\n",
       "      <th>Bob</th>\n",
       "      <td>73</td>\n",
       "      <td>55</td>\n",
       "      <td>95</td>\n",
       "    </tr>\n",
       "  </tbody>\n",
       "</table>\n",
       "</div>"
      ],
      "text/plain": [
       "       Test1  Test2  Test3\n",
       "Wally     85     98     70\n",
       "Eva      100     77     80\n",
       "Sam       84     87     90\n",
       "Katie    100     71     92\n",
       "Bob       73     55     95"
      ]
     },
     "execution_count": 16,
     "metadata": {},
     "output_type": "execute_result"
    }
   ],
   "source": [
    "grades.T"
   ]
  },
  {
   "cell_type": "code",
   "execution_count": 17,
   "id": "9a8563a1-9a64-4c20-8084-19b159580f50",
   "metadata": {},
   "outputs": [
    {
     "data": {
      "text/html": [
       "<div>\n",
       "<style scoped>\n",
       "    .dataframe tbody tr th:only-of-type {\n",
       "        vertical-align: middle;\n",
       "    }\n",
       "\n",
       "    .dataframe tbody tr th {\n",
       "        vertical-align: top;\n",
       "    }\n",
       "\n",
       "    .dataframe thead th {\n",
       "        text-align: right;\n",
       "    }\n",
       "</style>\n",
       "<table border=\"1\" class=\"dataframe\">\n",
       "  <thead>\n",
       "    <tr style=\"text-align: right;\">\n",
       "      <th></th>\n",
       "      <th>Test1</th>\n",
       "      <th>Test2</th>\n",
       "      <th>Test3</th>\n",
       "    </tr>\n",
       "  </thead>\n",
       "  <tbody>\n",
       "    <tr>\n",
       "      <th>count</th>\n",
       "      <td>5.00</td>\n",
       "      <td>5.00</td>\n",
       "      <td>5.00</td>\n",
       "    </tr>\n",
       "    <tr>\n",
       "      <th>mean</th>\n",
       "      <td>88.40</td>\n",
       "      <td>77.60</td>\n",
       "      <td>85.40</td>\n",
       "    </tr>\n",
       "    <tr>\n",
       "      <th>std</th>\n",
       "      <td>11.59</td>\n",
       "      <td>16.27</td>\n",
       "      <td>10.29</td>\n",
       "    </tr>\n",
       "    <tr>\n",
       "      <th>min</th>\n",
       "      <td>73.00</td>\n",
       "      <td>55.00</td>\n",
       "      <td>70.00</td>\n",
       "    </tr>\n",
       "    <tr>\n",
       "      <th>25%</th>\n",
       "      <td>84.00</td>\n",
       "      <td>71.00</td>\n",
       "      <td>80.00</td>\n",
       "    </tr>\n",
       "    <tr>\n",
       "      <th>50%</th>\n",
       "      <td>85.00</td>\n",
       "      <td>77.00</td>\n",
       "      <td>90.00</td>\n",
       "    </tr>\n",
       "    <tr>\n",
       "      <th>75%</th>\n",
       "      <td>100.00</td>\n",
       "      <td>87.00</td>\n",
       "      <td>92.00</td>\n",
       "    </tr>\n",
       "    <tr>\n",
       "      <th>max</th>\n",
       "      <td>100.00</td>\n",
       "      <td>98.00</td>\n",
       "      <td>95.00</td>\n",
       "    </tr>\n",
       "  </tbody>\n",
       "</table>\n",
       "</div>"
      ],
      "text/plain": [
       "        Test1  Test2  Test3\n",
       "count    5.00   5.00   5.00\n",
       "mean    88.40  77.60  85.40\n",
       "std     11.59  16.27  10.29\n",
       "min     73.00  55.00  70.00\n",
       "25%     84.00  71.00  80.00\n",
       "50%     85.00  77.00  90.00\n",
       "75%    100.00  87.00  92.00\n",
       "max    100.00  98.00  95.00"
      ]
     },
     "execution_count": 17,
     "metadata": {},
     "output_type": "execute_result"
    }
   ],
   "source": [
    "grades.T.describe()"
   ]
  },
  {
   "cell_type": "markdown",
   "id": "10131ffb-b869-4fbe-92fb-aeebff62243d",
   "metadata": {},
   "source": [
    "## Task 6. Sort "
   ]
  },
  {
   "cell_type": "code",
   "execution_count": 18,
   "id": "61d6d001-733f-4ad4-aba0-7d48e589c81c",
   "metadata": {},
   "outputs": [
    {
     "data": {
      "text/html": [
       "<div>\n",
       "<style scoped>\n",
       "    .dataframe tbody tr th:only-of-type {\n",
       "        vertical-align: middle;\n",
       "    }\n",
       "\n",
       "    .dataframe tbody tr th {\n",
       "        vertical-align: top;\n",
       "    }\n",
       "\n",
       "    .dataframe thead th {\n",
       "        text-align: right;\n",
       "    }\n",
       "</style>\n",
       "<table border=\"1\" class=\"dataframe\">\n",
       "  <thead>\n",
       "    <tr style=\"text-align: right;\">\n",
       "      <th></th>\n",
       "      <th>Wally</th>\n",
       "      <th>Eva</th>\n",
       "      <th>Sam</th>\n",
       "      <th>Katie</th>\n",
       "      <th>Bob</th>\n",
       "    </tr>\n",
       "  </thead>\n",
       "  <tbody>\n",
       "    <tr>\n",
       "      <th>Test3</th>\n",
       "      <td>70</td>\n",
       "      <td>80</td>\n",
       "      <td>90</td>\n",
       "      <td>92</td>\n",
       "      <td>95</td>\n",
       "    </tr>\n",
       "    <tr>\n",
       "      <th>Test2</th>\n",
       "      <td>98</td>\n",
       "      <td>77</td>\n",
       "      <td>87</td>\n",
       "      <td>71</td>\n",
       "      <td>55</td>\n",
       "    </tr>\n",
       "    <tr>\n",
       "      <th>Test1</th>\n",
       "      <td>85</td>\n",
       "      <td>100</td>\n",
       "      <td>84</td>\n",
       "      <td>100</td>\n",
       "      <td>73</td>\n",
       "    </tr>\n",
       "  </tbody>\n",
       "</table>\n",
       "</div>"
      ],
      "text/plain": [
       "       Wally  Eva  Sam  Katie  Bob\n",
       "Test3     70   80   90     92   95\n",
       "Test2     98   77   87     71   55\n",
       "Test1     85  100   84    100   73"
      ]
     },
     "execution_count": 18,
     "metadata": {},
     "output_type": "execute_result"
    }
   ],
   "source": [
    "grades.sort_index(ascending=False)"
   ]
  },
  {
   "cell_type": "code",
   "execution_count": 19,
   "id": "ceefe576-5872-4b2a-a31b-09a4ee270bcf",
   "metadata": {},
   "outputs": [
    {
     "data": {
      "text/html": [
       "<div>\n",
       "<style scoped>\n",
       "    .dataframe tbody tr th:only-of-type {\n",
       "        vertical-align: middle;\n",
       "    }\n",
       "\n",
       "    .dataframe tbody tr th {\n",
       "        vertical-align: top;\n",
       "    }\n",
       "\n",
       "    .dataframe thead th {\n",
       "        text-align: right;\n",
       "    }\n",
       "</style>\n",
       "<table border=\"1\" class=\"dataframe\">\n",
       "  <thead>\n",
       "    <tr style=\"text-align: right;\">\n",
       "      <th></th>\n",
       "      <th>Bob</th>\n",
       "      <th>Eva</th>\n",
       "      <th>Katie</th>\n",
       "      <th>Sam</th>\n",
       "      <th>Wally</th>\n",
       "    </tr>\n",
       "  </thead>\n",
       "  <tbody>\n",
       "    <tr>\n",
       "      <th>Test1</th>\n",
       "      <td>73</td>\n",
       "      <td>100</td>\n",
       "      <td>100</td>\n",
       "      <td>84</td>\n",
       "      <td>85</td>\n",
       "    </tr>\n",
       "    <tr>\n",
       "      <th>Test2</th>\n",
       "      <td>55</td>\n",
       "      <td>77</td>\n",
       "      <td>71</td>\n",
       "      <td>87</td>\n",
       "      <td>98</td>\n",
       "    </tr>\n",
       "    <tr>\n",
       "      <th>Test3</th>\n",
       "      <td>95</td>\n",
       "      <td>80</td>\n",
       "      <td>92</td>\n",
       "      <td>90</td>\n",
       "      <td>70</td>\n",
       "    </tr>\n",
       "  </tbody>\n",
       "</table>\n",
       "</div>"
      ],
      "text/plain": [
       "       Bob  Eva  Katie  Sam  Wally\n",
       "Test1   73  100    100   84     85\n",
       "Test2   55   77     71   87     98\n",
       "Test3   95   80     92   90     70"
      ]
     },
     "execution_count": 19,
     "metadata": {},
     "output_type": "execute_result"
    }
   ],
   "source": [
    "grades.sort_index(axis=1)"
   ]
  }
 ],
 "metadata": {
  "kernelspec": {
   "display_name": "Python [conda env:root] *",
   "language": "python",
   "name": "conda-root-py"
  },
  "language_info": {
   "codemirror_mode": {
    "name": "ipython",
    "version": 3
   },
   "file_extension": ".py",
   "mimetype": "text/x-python",
   "name": "python",
   "nbconvert_exporter": "python",
   "pygments_lexer": "ipython3",
   "version": "3.10.8"
  }
 },
 "nbformat": 4,
 "nbformat_minor": 5
}
